{
 "cells": [
  {
   "cell_type": "code",
   "execution_count": 1,
   "metadata": {},
   "outputs": [],
   "source": [
    "import numpy as np\n",
    "import random\n",
    "from scipy.optimize import minimize"
   ]
  },
  {
   "cell_type": "code",
   "execution_count": 2,
   "metadata": {},
   "outputs": [],
   "source": [
    "def fun(x):\n",
    "    result = np.sum(x)\n",
    "    return result"
   ]
  },
  {
   "cell_type": "code",
   "execution_count": 3,
   "metadata": {},
   "outputs": [],
   "source": [
    "def dict(n):\n",
    "    d = np.array([])\n",
    "    \n",
    "    for i in range(1, 2*n, 2):\n",
    "        d = np.append(d, {'type':'ineq','fun':lambda x:(1 - x[0])**2 - abs(x[i]) - abs(x[i+1])})\n",
    "    for i in range(1, 2*n, 2):\n",
    "        for j in range(i+2, 2*n + 1, 2):\n",
    "            d = np.append(d, {'type':'ineq','fun':lambda x: (x[i] - x[j])**2 + (x[i+1] - x[j+1])**2 - 4/x[0]**2})\n",
    "    d = np.append(d, {'type':'ineq','fun':lambda x: 1 - x[0]})\n",
    "    d = np.append(d, {'type':'ineq','fun':lambda x: x[0]})\n",
    "    for i in range(1, 2*n, 2):\n",
    "        d = np.append(d, {'type':'ineq','fun':lambda x: x[i] + 1})\n",
    "        d = np.append(d, {'type':'ineq','fun':lambda x: 1 - x[i]})\n",
    "        d = np.append(d, {'type':'ineq','fun':lambda x: x[i+1] + 1})\n",
    "        d = np.append(d, {'type':'ineq','fun':lambda x: 1 - x[i+1]})\n",
    "    return d"
   ]
  },
  {
   "cell_type": "code",
   "execution_count": 4,
   "metadata": {},
   "outputs": [
    {
     "name": "stdout",
     "output_type": "stream",
     "text": [
      "Enter: 3\n"
     ]
    }
   ],
   "source": [
    "n = int(input(\"Enter: \"))"
   ]
  },
  {
   "cell_type": "code",
   "execution_count": 5,
   "metadata": {},
   "outputs": [],
   "source": [
    "a = np.array([random.uniform(-1,1) for i in range(2*n+1)])\n",
    "a[0] = 1\n",
    "cons = dict(n)\n",
    "cons = cons.tolist()"
   ]
  },
  {
   "cell_type": "code",
   "execution_count": 6,
   "metadata": {},
   "outputs": [],
   "source": [
    "res = minimize(fun, a, constraints=cons)"
   ]
  },
  {
   "cell_type": "code",
   "execution_count": 7,
   "metadata": {},
   "outputs": [
    {
     "name": "stdout",
     "output_type": "stream",
     "text": [
      "[ 1.00000000e+00 -1.10942588e+08 -1.10942589e+08 -1.10942588e+08\n",
      " -1.10942588e+08 -9.97356324e-01 -7.88976235e-02]\n"
     ]
    }
   ],
   "source": [
    "print(res.x)"
   ]
  },
  {
   "cell_type": "code",
   "execution_count": null,
   "metadata": {},
   "outputs": [],
   "source": []
  }
 ],
 "metadata": {
  "kernelspec": {
   "display_name": "Python 3",
   "language": "python",
   "name": "python3"
  },
  "language_info": {
   "codemirror_mode": {
    "name": "ipython",
    "version": 3
   },
   "file_extension": ".py",
   "mimetype": "text/x-python",
   "name": "python",
   "nbconvert_exporter": "python",
   "pygments_lexer": "ipython3",
   "version": "3.7.4"
  }
 },
 "nbformat": 4,
 "nbformat_minor": 2
}
